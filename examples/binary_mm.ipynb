{
 "cells": [
  {
   "cell_type": "code",
   "execution_count": 32,
   "metadata": {},
   "outputs": [],
   "source": [
    "import keras\n",
    "from keras.models import Sequential,load_model\n",
    "from keras_preprocessing.image import ImageDataGenerator\n",
    "from keras.layers import Dense, Activation, Flatten, Dropout, BatchNormalization\n",
    "from keras.layers import Conv2D, MaxPooling2D\n",
    "from keras import regularizers, optimizers\n",
    "import pandas as pd\n",
    "import numpy as np\n",
    "import matplotlib.pyplot as plt"
   ]
  },
  {
   "cell_type": "code",
   "execution_count": 34,
   "metadata": {},
   "outputs": [
    {
     "data": {
      "text/plain": [
       "'badsurface'"
      ]
     },
     "execution_count": 34,
     "metadata": {},
     "output_type": "execute_result"
    }
   ],
   "source": [
    "img_dir = 'binary_mm/crop_mm'\n",
    "df=pd.read_csv('binary_mm/crop_mm_relabel.csv')\n",
    "# label needs to be string if class_mode is binary\n",
    "df = df.applymap(str)\n",
    "columns=df.columns.tolist()[4]\n",
    "columns"
   ]
  },
  {
   "cell_type": "code",
   "execution_count": 35,
   "metadata": {},
   "outputs": [
    {
     "data": {
      "text/html": [
       "<div>\n",
       "<style scoped>\n",
       "    .dataframe tbody tr th:only-of-type {\n",
       "        vertical-align: middle;\n",
       "    }\n",
       "\n",
       "    .dataframe tbody tr th {\n",
       "        vertical-align: top;\n",
       "    }\n",
       "\n",
       "    .dataframe thead th {\n",
       "        text-align: right;\n",
       "    }\n",
       "</style>\n",
       "<table border=\"1\" class=\"dataframe\">\n",
       "  <thead>\n",
       "    <tr style=\"text-align: right;\">\n",
       "      <th></th>\n",
       "      <th>External ID</th>\n",
       "      <th>partialm</th>\n",
       "      <th>offcenterm</th>\n",
       "      <th>badshape</th>\n",
       "      <th>badsurface</th>\n",
       "    </tr>\n",
       "  </thead>\n",
       "  <tbody>\n",
       "    <tr>\n",
       "      <th>0</th>\n",
       "      <td>IMG756.jpg</td>\n",
       "      <td>0</td>\n",
       "      <td>0</td>\n",
       "      <td>0</td>\n",
       "      <td>0</td>\n",
       "    </tr>\n",
       "    <tr>\n",
       "      <th>1</th>\n",
       "      <td>IMG20.jpg</td>\n",
       "      <td>0</td>\n",
       "      <td>0</td>\n",
       "      <td>1</td>\n",
       "      <td>1</td>\n",
       "    </tr>\n",
       "    <tr>\n",
       "      <th>2</th>\n",
       "      <td>IMG788.jpg</td>\n",
       "      <td>0</td>\n",
       "      <td>0</td>\n",
       "      <td>0</td>\n",
       "      <td>0</td>\n",
       "    </tr>\n",
       "    <tr>\n",
       "      <th>3</th>\n",
       "      <td>IMG52.jpg</td>\n",
       "      <td>0</td>\n",
       "      <td>0</td>\n",
       "      <td>1</td>\n",
       "      <td>1</td>\n",
       "    </tr>\n",
       "    <tr>\n",
       "      <th>4</th>\n",
       "      <td>IMG820.jpg</td>\n",
       "      <td>1</td>\n",
       "      <td>0</td>\n",
       "      <td>0</td>\n",
       "      <td>0</td>\n",
       "    </tr>\n",
       "  </tbody>\n",
       "</table>\n",
       "</div>"
      ],
      "text/plain": [
       "  External ID partialm offcenterm badshape badsurface\n",
       "0  IMG756.jpg        0          0        0          0\n",
       "1   IMG20.jpg        0          0        1          1\n",
       "2  IMG788.jpg        0          0        0          0\n",
       "3   IMG52.jpg        0          0        1          1\n",
       "4  IMG820.jpg        1          0        0          0"
      ]
     },
     "execution_count": 35,
     "metadata": {},
     "output_type": "execute_result"
    }
   ],
   "source": [
    "df.head()"
   ]
  },
  {
   "cell_type": "code",
   "execution_count": 37,
   "metadata": {},
   "outputs": [],
   "source": [
    "image_size = 100\n",
    "batch_size = 64"
   ]
  },
  {
   "cell_type": "code",
   "execution_count": 38,
   "metadata": {},
   "outputs": [
    {
     "name": "stdout",
     "output_type": "stream",
     "text": [
      "Found 1069 images belonging to 2 classes.\n"
     ]
    }
   ],
   "source": [
    "datagen=ImageDataGenerator(rescale=1./255.)\n",
    "test_datagen=ImageDataGenerator(rescale=1./255.)\n",
    "\n",
    "train_generator=datagen.flow_from_dataframe(\n",
    "dataframe=df[:1069],\n",
    "directory=img_dir,\n",
    "x_col=\"External ID\",\n",
    "y_col=columns,\n",
    "batch_size=batch_size,\n",
    "seed=42,\n",
    "shuffle=True,\n",
    "class_mode=\"binary\",\n",
    "target_size=(image_size,image_size))"
   ]
  },
  {
   "cell_type": "code",
   "execution_count": 39,
   "metadata": {},
   "outputs": [
    {
     "name": "stdout",
     "output_type": "stream",
     "text": [
      "Found 134 images belonging to 2 classes.\n"
     ]
    }
   ],
   "source": [
    "valid_generator=test_datagen.flow_from_dataframe(\n",
    "dataframe=df[1069:1203],\n",
    "directory=img_dir,\n",
    "x_col=\"External ID\",\n",
    "y_col=columns,\n",
    "batch_size=batch_size,\n",
    "seed=42,\n",
    "shuffle=True,\n",
    "class_mode=\"binary\",\n",
    "target_size=(image_size,image_size))"
   ]
  },
  {
   "cell_type": "code",
   "execution_count": 40,
   "metadata": {},
   "outputs": [
    {
     "name": "stdout",
     "output_type": "stream",
     "text": [
      "Found 133 images belonging to 2 classes.\n"
     ]
    }
   ],
   "source": [
    "test_generator=test_datagen.flow_from_dataframe(\n",
    "dataframe=df[1203:],\n",
    "directory=img_dir,\n",
    "x_col=\"External ID\",\n",
    "y_col=columns,\n",
    "batch_size=1,\n",
    "seed=42,\n",
    "shuffle=False,\n",
    "class_mode=\"binary\",\n",
    "target_size=(image_size,image_size))"
   ]
  },
  {
   "cell_type": "code",
   "execution_count": 42,
   "metadata": {},
   "outputs": [],
   "source": [
    "# original model\n",
    "model = Sequential()\n",
    "\n",
    "model.add(Conv2D(32, (3, 3), padding='same',input_shape=(image_size,image_size,3)))\n",
    "model.add(Activation('relu'))\n",
    "model.add(Conv2D(32, (3, 3)))\n",
    "model.add(Activation('relu'))\n",
    "model.add(BatchNormalization())\n",
    "model.add(MaxPooling2D(pool_size=(2, 2)))\n",
    "model.add(Dropout(0.25))\n",
    "\n",
    "model.add(Conv2D(64, (3, 3), padding='same'))\n",
    "model.add(Activation('relu'))\n",
    "model.add(Conv2D(64, (3, 3)))\n",
    "model.add(Activation('relu'))\n",
    "model.add(BatchNormalization())\n",
    "model.add(MaxPooling2D(pool_size=(2, 2)))\n",
    "model.add(Dropout(0.25))\n",
    "\n",
    "model.add(Flatten())\n",
    "model.add(Dense(512))\n",
    "model.add(Activation('relu'))\n",
    "model.add(Dropout(0.5))\n",
    "model.add(BatchNormalization())\n",
    "model.add(Dense(1, activation='sigmoid'))\n",
    "\n",
    "model.compile(optimizers.rmsprop(lr=0.0001, decay=1e-6),loss=\"binary_crossentropy\",metrics=[\"accuracy\"])"
   ]
  },
  {
   "cell_type": "code",
   "execution_count": 25,
   "metadata": {},
   "outputs": [],
   "source": [
    "# DLP model\n",
    "model = Sequential()\n",
    "model.add(Conv2D(32, (3, 3), activation='relu',\n",
    "                        input_shape=(image_size, image_size, 3)))\n",
    "model.add(MaxPooling2D((2, 2)))\n",
    "model.add(Conv2D(64, (3, 3), activation='relu'))\n",
    "model.add(MaxPooling2D((2, 2)))\n",
    "model.add(Conv2D(128, (3, 3), activation='relu'))\n",
    "model.add(MaxPooling2D((2, 2)))\n",
    "model.add(Conv2D(128, (3, 3), activation='relu'))\n",
    "model.add(MaxPooling2D((2, 2)))\n",
    "model.add(Flatten())\n",
    "model.add(Dense(512, activation='relu'))\n",
    "model.add(Dense(1, activation='sigmoid'))\n",
    "model.compile(optimizers.rmsprop(lr=0.0001, decay=1e-6),loss=\"binary_crossentropy\",metrics=[\"accuracy\"])"
   ]
  },
  {
   "cell_type": "code",
   "execution_count": 26,
   "metadata": {},
   "outputs": [],
   "source": [
    "# DLP model with dropout\n",
    "model = Sequential()\n",
    "model.add(Conv2D(32, (3, 3), activation='relu',\n",
    "                        input_shape=(image_size, image_size, 3)))\n",
    "model.add(MaxPooling2D((2, 2)))\n",
    "model.add(Conv2D(64, (3, 3), activation='relu'))\n",
    "model.add(MaxPooling2D((2, 2)))\n",
    "model.add(Conv2D(128, (3, 3), activation='relu'))\n",
    "model.add(MaxPooling2D((2, 2)))\n",
    "model.add(Conv2D(128, (3, 3), activation='relu'))\n",
    "model.add(MaxPooling2D((2, 2)))\n",
    "model.add(Flatten())\n",
    "model.add(Dropout(0.5))\n",
    "model.add(Dense(512, activation='relu'))\n",
    "model.add(Dense(1, activation='sigmoid'))\n",
    "model.compile(optimizers.rmsprop(lr=0.0001, decay=1e-6),loss=\"binary_crossentropy\",metrics=[\"accuracy\"])"
   ]
  },
  {
   "cell_type": "code",
   "execution_count": 68,
   "metadata": {},
   "outputs": [],
   "source": [
    "# model = load_model('.h5')"
   ]
  },
  {
   "cell_type": "code",
   "execution_count": 43,
   "metadata": {},
   "outputs": [
    {
     "name": "stdout",
     "output_type": "stream",
     "text": [
      "mkdir: cannot create directory ‘my_log_dir/’: File exists\r\n"
     ]
    }
   ],
   "source": [
    "mkdir 'my_log_dir/'"
   ]
  },
  {
   "cell_type": "code",
   "execution_count": 54,
   "metadata": {},
   "outputs": [],
   "source": [
    "callbacks_list = [\n",
    "keras.callbacks.EarlyStopping(\n",
    "monitor='acc',\n",
    "patience=10,\n",
    "),\n",
    "keras.callbacks.ModelCheckpoint(\n",
    "filepath='binary_mm_badshape.h5',\n",
    "monitor='val_loss',\n",
    "save_best_only=True,\n",
    "),\n",
    "keras.callbacks.ReduceLROnPlateau(\n",
    "monitor='val_loss',\n",
    "factor=0.1,\n",
    "patience=10,\n",
    "),\n",
    "keras.callbacks.TensorBoard(\n",
    "log_dir='my_log_dir',\n",
    "histogram_freq=0, write_graph=True,\n",
    ")\n",
    "]"
   ]
  },
  {
   "cell_type": "code",
   "execution_count": 55,
   "metadata": {
    "scrolled": true
   },
   "outputs": [
    {
     "name": "stdout",
     "output_type": "stream",
     "text": [
      "Epoch 1/30\n",
      "16/16 [==============================] - 34s 2s/step - loss: 0.6636 - acc: 0.6283 - val_loss: 0.5296 - val_acc: 0.8429\n",
      "Epoch 2/30\n",
      "16/16 [==============================] - 34s 2s/step - loss: 0.6453 - acc: 0.6518 - val_loss: 0.5267 - val_acc: 0.8672\n",
      "Epoch 3/30\n",
      "16/16 [==============================] - 34s 2s/step - loss: 0.6338 - acc: 0.6557 - val_loss: 0.4865 - val_acc: 0.8286\n",
      "Epoch 4/30\n",
      "16/16 [==============================] - 34s 2s/step - loss: 0.6047 - acc: 0.6917 - val_loss: 0.4728 - val_acc: 0.8857\n",
      "Epoch 5/30\n",
      "16/16 [==============================] - 34s 2s/step - loss: 0.5955 - acc: 0.7028 - val_loss: 0.4133 - val_acc: 0.9062\n",
      "Epoch 6/30\n",
      "16/16 [==============================] - 34s 2s/step - loss: 0.5759 - acc: 0.7120 - val_loss: 0.4644 - val_acc: 0.8571\n",
      "Epoch 7/30\n",
      "16/16 [==============================] - 33s 2s/step - loss: 0.5493 - acc: 0.7478 - val_loss: 0.5523 - val_acc: 0.7571\n",
      "Epoch 8/30\n",
      "16/16 [==============================] - 34s 2s/step - loss: 0.5351 - acc: 0.7670 - val_loss: 0.5017 - val_acc: 0.8594\n",
      "Epoch 9/30\n",
      "16/16 [==============================] - 34s 2s/step - loss: 0.5236 - acc: 0.7709 - val_loss: 0.4877 - val_acc: 0.9000\n",
      "Epoch 10/30\n",
      "16/16 [==============================] - 34s 2s/step - loss: 0.4975 - acc: 0.8094 - val_loss: 0.5089 - val_acc: 0.7714\n",
      "Epoch 11/30\n",
      "16/16 [==============================] - 34s 2s/step - loss: 0.4928 - acc: 0.7996 - val_loss: 0.5307 - val_acc: 0.8281\n",
      "Epoch 12/30\n",
      "16/16 [==============================] - 34s 2s/step - loss: 0.4805 - acc: 0.8125 - val_loss: 0.4496 - val_acc: 0.8714\n",
      "Epoch 13/30\n",
      "16/16 [==============================] - 34s 2s/step - loss: 0.4570 - acc: 0.8198 - val_loss: 0.5475 - val_acc: 0.8143\n",
      "Epoch 14/30\n",
      "16/16 [==============================] - 34s 2s/step - loss: 0.4278 - acc: 0.8545 - val_loss: 0.5263 - val_acc: 0.7578\n",
      "Epoch 15/30\n",
      "16/16 [==============================] - 34s 2s/step - loss: 0.4212 - acc: 0.8465 - val_loss: 0.4350 - val_acc: 0.8714\n",
      "Epoch 16/30\n",
      "16/16 [==============================] - 34s 2s/step - loss: 0.4066 - acc: 0.8692 - val_loss: 0.4968 - val_acc: 0.8143\n",
      "Epoch 17/30\n",
      "16/16 [==============================] - 35s 2s/step - loss: 0.4066 - acc: 0.8564 - val_loss: 0.4953 - val_acc: 0.8281\n",
      "Epoch 18/30\n",
      "16/16 [==============================] - 34s 2s/step - loss: 0.3981 - acc: 0.8637 - val_loss: 0.5449 - val_acc: 0.8286\n",
      "Epoch 19/30\n",
      "16/16 [==============================] - 34s 2s/step - loss: 0.4025 - acc: 0.8612 - val_loss: 0.5351 - val_acc: 0.7429\n",
      "Epoch 20/30\n",
      "16/16 [==============================] - 34s 2s/step - loss: 0.3856 - acc: 0.8761 - val_loss: 0.5418 - val_acc: 0.7656\n",
      "Epoch 21/30\n",
      "16/16 [==============================] - 35s 2s/step - loss: 0.3976 - acc: 0.8633 - val_loss: 0.5914 - val_acc: 0.7143\n",
      "Epoch 22/30\n",
      "16/16 [==============================] - 34s 2s/step - loss: 0.3845 - acc: 0.8858 - val_loss: 0.5248 - val_acc: 0.7571\n",
      "Epoch 23/30\n",
      "16/16 [==============================] - 34s 2s/step - loss: 0.3953 - acc: 0.8594 - val_loss: 0.5612 - val_acc: 0.7422\n",
      "Epoch 24/30\n",
      "16/16 [==============================] - 34s 2s/step - loss: 0.3880 - acc: 0.8651 - val_loss: 0.5371 - val_acc: 0.7286\n",
      "Epoch 25/30\n",
      "16/16 [==============================] - 34s 2s/step - loss: 0.3779 - acc: 0.8839 - val_loss: 0.5805 - val_acc: 0.7143\n",
      "Epoch 26/30\n",
      "16/16 [==============================] - 34s 2s/step - loss: 0.3892 - acc: 0.8749 - val_loss: 0.5791 - val_acc: 0.7109\n",
      "Epoch 27/30\n",
      "16/16 [==============================] - 34s 2s/step - loss: 0.3803 - acc: 0.8792 - val_loss: 0.6299 - val_acc: 0.7000\n",
      "Epoch 28/30\n",
      "16/16 [==============================] - 34s 2s/step - loss: 0.3691 - acc: 0.8913 - val_loss: 0.6218 - val_acc: 0.6714\n",
      "Epoch 29/30\n",
      "16/16 [==============================] - 36s 2s/step - loss: 0.3746 - acc: 0.8823 - val_loss: 0.6381 - val_acc: 0.6484\n",
      "Epoch 30/30\n",
      "16/16 [==============================] - 35s 2s/step - loss: 0.3871 - acc: 0.8727 - val_loss: 0.7083 - val_acc: 0.6429\n"
     ]
    }
   ],
   "source": [
    "STEP_SIZE_TRAIN=train_generator.n//train_generator.batch_size\n",
    "STEP_SIZE_VALID=valid_generator.n//valid_generator.batch_size\n",
    "STEP_SIZE_TEST=test_generator.n//test_generator.batch_size\n",
    "\n",
    "history = model.fit_generator(\n",
    "                    generator=train_generator,\n",
    "                    steps_per_epoch=STEP_SIZE_TRAIN,\n",
    "                    validation_data=valid_generator,\n",
    "                    validation_steps=STEP_SIZE_VALID,\n",
    "                    epochs=30,\n",
    "                    callbacks=callbacks_list,\n",
    ")"
   ]
  },
  {
   "cell_type": "code",
   "execution_count": 57,
   "metadata": {},
   "outputs": [
    {
     "name": "stdout",
     "output_type": "stream",
     "text": [
      "_________________________________________________________________\n",
      "Layer (type)                 Output Shape              Param #   \n",
      "=================================================================\n",
      "conv2d_11 (Conv2D)           (None, 100, 100, 32)      896       \n",
      "_________________________________________________________________\n",
      "activation_13 (Activation)   (None, 100, 100, 32)      0         \n",
      "_________________________________________________________________\n",
      "conv2d_12 (Conv2D)           (None, 98, 98, 32)        9248      \n",
      "_________________________________________________________________\n",
      "activation_14 (Activation)   (None, 98, 98, 32)        0         \n",
      "_________________________________________________________________\n",
      "batch_normalization_1 (Batch (None, 98, 98, 32)        128       \n",
      "_________________________________________________________________\n",
      "max_pooling2d_5 (MaxPooling2 (None, 49, 49, 32)        0         \n",
      "_________________________________________________________________\n",
      "dropout_7 (Dropout)          (None, 49, 49, 32)        0         \n",
      "_________________________________________________________________\n",
      "conv2d_13 (Conv2D)           (None, 49, 49, 64)        18496     \n",
      "_________________________________________________________________\n",
      "activation_15 (Activation)   (None, 49, 49, 64)        0         \n",
      "_________________________________________________________________\n",
      "conv2d_14 (Conv2D)           (None, 47, 47, 64)        36928     \n",
      "_________________________________________________________________\n",
      "activation_16 (Activation)   (None, 47, 47, 64)        0         \n",
      "_________________________________________________________________\n",
      "batch_normalization_2 (Batch (None, 47, 47, 64)        256       \n",
      "_________________________________________________________________\n",
      "max_pooling2d_6 (MaxPooling2 (None, 23, 23, 64)        0         \n",
      "_________________________________________________________________\n",
      "dropout_8 (Dropout)          (None, 23, 23, 64)        0         \n",
      "_________________________________________________________________\n",
      "flatten_3 (Flatten)          (None, 33856)             0         \n",
      "_________________________________________________________________\n",
      "dense_5 (Dense)              (None, 512)               17334784  \n",
      "_________________________________________________________________\n",
      "activation_17 (Activation)   (None, 512)               0         \n",
      "_________________________________________________________________\n",
      "dropout_9 (Dropout)          (None, 512)               0         \n",
      "_________________________________________________________________\n",
      "batch_normalization_3 (Batch (None, 512)               2048      \n",
      "_________________________________________________________________\n",
      "dense_6 (Dense)              (None, 1)                 513       \n",
      "=================================================================\n",
      "Total params: 17,403,297\n",
      "Trainable params: 17,402,081\n",
      "Non-trainable params: 1,216\n",
      "_________________________________________________________________\n"
     ]
    }
   ],
   "source": [
    "model.summary()"
   ]
  },
  {
   "cell_type": "code",
   "execution_count": 10,
   "metadata": {},
   "outputs": [
    {
     "data": {
      "image/png": "[encoded data removed]",
      "text/plain": [
       "<Figure size 576x576 with 2 Axes>"
      ]
     },
     "metadata": {
      "needs_background": "light"
     },
     "output_type": "display_data"
    }
   ],
   "source": [
    "acc = history.history['acc']\n",
    "val_acc = history.history['val_acc']\n",
    "\n",
    "loss = history.history['loss']\n",
    "val_loss = history.history['val_loss']\n",
    "\n",
    "plt.figure(figsize=(8, 8))\n",
    "plt.subplot(2, 1, 1)\n",
    "plt.plot(acc, label='Training Accuracy')\n",
    "plt.plot(val_acc, label='Validation Accuracy')\n",
    "plt.legend(loc='lower right')\n",
    "plt.ylabel('Accuracy')\n",
    "plt.ylim([min(plt.ylim()),1])\n",
    "plt.title('Training and Validation Accuracy')\n",
    "\n",
    "plt.subplot(2, 1, 2)\n",
    "plt.plot(loss, label='Training Loss')\n",
    "plt.plot(val_loss, label='Validation Loss')\n",
    "plt.legend(loc='upper right')\n",
    "plt.ylabel('Cross Entropy')\n",
    "plt.ylim([0,max(plt.ylim())])\n",
    "plt.title('Training and Validation Loss')\n",
    "plt.show()"
   ]
  },
  {
   "cell_type": "code",
   "execution_count": 11,
   "metadata": {},
   "outputs": [
    {
     "name": "stdout",
     "output_type": "stream",
     "text": [
      "134/134 [==============================] - 1s 8ms/step\n"
     ]
    }
   ],
   "source": [
    "test_generator.reset()\n",
    "pred=model.predict_generator(test_generator,\n",
    "steps=STEP_SIZE_TEST,\n",
    "verbose=1)"
   ]
  },
  {
   "cell_type": "code",
   "execution_count": 12,
   "metadata": {},
   "outputs": [],
   "source": [
    "pred_bool = (pred >0.5)"
   ]
  },
  {
   "cell_type": "code",
   "execution_count": 13,
   "metadata": {},
   "outputs": [],
   "source": [
    "predictions = pred_bool.astype(int)\n",
    "results=pd.DataFrame(predictions, columns=columns)\n",
    "results[\"External ID\"]=test_generator.filenames\n",
    "ordered_cols=[\"External ID\"]+columns\n",
    "results=results[ordered_cols]#To get the same column order\n",
    "results.to_csv(\"mm_result.csv\",index=False)"
   ]
  },
  {
   "cell_type": "code",
   "execution_count": 14,
   "metadata": {},
   "outputs": [],
   "source": [
    "model.save('mm.h5')"
   ]
  },
  {
   "cell_type": "code",
   "execution_count": 15,
   "metadata": {},
   "outputs": [
    {
     "name": "stdout",
     "output_type": "stream",
     "text": [
      "test acc: 0.75\n"
     ]
    }
   ],
   "source": [
    "test_generator.reset()\n",
    "test_loss, test_acc = model.evaluate_generator(test_generator, steps = STEP_SIZE_TEST)\n",
    "print('test acc:', test_acc)"
   ]
  },
  {
   "cell_type": "code",
   "execution_count": null,
   "metadata": {},
   "outputs": [],
   "source": []
  }
 ],
 "metadata": {
  "kernelspec": {
   "display_name": "Python 3",
   "language": "python",
   "name": "python3"
  },
  "language_info": {
   "codemirror_mode": {
    "name": "ipython",
    "version": 3
   },
   "file_extension": ".py",
   "mimetype": "text/x-python",
   "name": "python",
   "nbconvert_exporter": "python",
   "pygments_lexer": "ipython3",
   "version": "3.7.3"
  }
 },
 "nbformat": 4,
 "nbformat_minor": 2
}
