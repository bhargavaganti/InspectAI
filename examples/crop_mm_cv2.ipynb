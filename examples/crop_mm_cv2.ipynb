{
 "cells": [
  {
   "cell_type": "code",
   "execution_count": 13,
   "metadata": {},
   "outputs": [],
   "source": [
    "import sys\n",
    "import cv2 as cv\n",
    "import numpy as np\n",
    "from PIL import Image\n",
    "import os\n",
    "from os import listdir\n",
    "import glob"
   ]
  },
  {
   "cell_type": "code",
   "execution_count": 19,
   "metadata": {},
   "outputs": [],
   "source": [
    "def detectCircle(img_path):\n",
    "    # Loads an image\n",
    "    src = cv.imread(img_path, cv.IMREAD_COLOR)\n",
    "    src = cv.cvtColor(src, cv.COLOR_BGR2RGB)\n",
    "    # Check if image is loaded fine\n",
    "    if src is None:\n",
    "        print ('Error opening image!')\n",
    "        print ('Usage: hough_circle.py [image_name -- default ' + default_file + '] \\n')\n",
    "\n",
    "\n",
    "    gray = cv.cvtColor(src, cv.COLOR_BGR2GRAY)\n",
    "\n",
    "\n",
    "    gray = cv.medianBlur(gray, 5)\n",
    "\n",
    "\n",
    "    rows = gray.shape[0]\n",
    "    circles = cv.HoughCircles(gray, cv.HOUGH_GRADIENT, 1, rows / 8,\n",
    "                               param1=50, param2=10,\n",
    "                               minRadius=200, maxRadius=350)\n",
    "\n",
    "\n",
    "    if circles is not None:\n",
    "        circles = np.uint16(np.around(circles))\n",
    "        centerx = circles[0, 0, :][0]\n",
    "        centery = circles[0, 0, :][1]\n",
    "        src = Image.fromarray(src, 'RGB')\n",
    "        crop_src = src.crop((centerx - 320, centery - 320, centerx + 320, centery +320))\n",
    "        crop_src.save('new' + img_path)\n",
    "#         overlay and show the circle\n",
    "#         for i in circles[0, :]:\n",
    "#             center = (i[0], i[1])\n",
    "#             # circle center\n",
    "#             cv.circle(src, center, 1, (0, 100, 100), 3)\n",
    "#             # circle outline\n",
    "#             radius = i[2]\n",
    "#             cv.circle(src, center, radius, (255, 0, 255), 3)\n",
    "\n",
    "    return circles\n",
    "    "
   ]
  },
  {
   "cell_type": "code",
   "execution_count": 20,
   "metadata": {},
   "outputs": [],
   "source": [
    "# #show image\n",
    "# img = Image.fromarray(src, 'RGB')\n",
    "# img.show()"
   ]
  },
  {
   "cell_type": "code",
   "execution_count": 21,
   "metadata": {},
   "outputs": [],
   "source": [
    "fnames = glob.glob('mm/crop_mm/*.jpg')"
   ]
  },
  {
   "cell_type": "code",
   "execution_count": 22,
   "metadata": {},
   "outputs": [
    {
     "data": {
      "text/plain": [
       "1336"
      ]
     },
     "execution_count": 22,
     "metadata": {},
     "output_type": "execute_result"
    }
   ],
   "source": [
    "len(fnames)"
   ]
  },
  {
   "cell_type": "code",
   "execution_count": 23,
   "metadata": {},
   "outputs": [
    {
     "data": {
      "text/plain": [
       "1336"
      ]
     },
     "execution_count": 23,
     "metadata": {},
     "output_type": "execute_result"
    }
   ],
   "source": [
    "n = 0 \n",
    "for f in fnames:\n",
    "    if detectCircle(f) is not None:\n",
    "        n = n + 1\n",
    "n"
   ]
  },
  {
   "cell_type": "code",
   "execution_count": null,
   "metadata": {},
   "outputs": [],
   "source": [
    "# experiment houghcicle p1 and p2\n",
    "# p1  p2  n\n",
    "# 100 30 892\n",
    "# 200 30 177\n",
    "# 50  30 1151\n",
    "# 50  10 1327\n"
   ]
  }
 ],
 "metadata": {
  "kernelspec": {
   "display_name": "Python 3",
   "language": "python",
   "name": "python3"
  },
  "language_info": {
   "codemirror_mode": {
    "name": "ipython",
    "version": 3
   },
   "file_extension": ".py",
   "mimetype": "text/x-python",
   "name": "python",
   "nbconvert_exporter": "python",
   "pygments_lexer": "ipython3",
   "version": "3.7.3"
  }
 },
 "nbformat": 4,
 "nbformat_minor": 2
}
